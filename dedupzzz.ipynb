{
 "cells": [
  {
   "cell_type": "code",
   "execution_count": 327,
   "id": "616f7fd8",
   "metadata": {},
   "outputs": [],
   "source": [
    "import pandas as pd\n",
    "import numpy as np\n",
    "import json as jz"
   ]
  },
  {
   "cell_type": "code",
   "execution_count": 328,
   "id": "156a07f8",
   "metadata": {},
   "outputs": [],
   "source": [
    "df=pd.read_excel(\"Book1.xlsx\")"
   ]
  },
  {
   "cell_type": "code",
   "execution_count": 329,
   "id": "83f8407f",
   "metadata": {},
   "outputs": [
    {
     "data": {
      "text/html": [
       "<div>\n",
       "<style scoped>\n",
       "    .dataframe tbody tr th:only-of-type {\n",
       "        vertical-align: middle;\n",
       "    }\n",
       "\n",
       "    .dataframe tbody tr th {\n",
       "        vertical-align: top;\n",
       "    }\n",
       "\n",
       "    .dataframe thead th {\n",
       "        text-align: right;\n",
       "    }\n",
       "</style>\n",
       "<table border=\"1\" class=\"dataframe\">\n",
       "  <thead>\n",
       "    <tr style=\"text-align: right;\">\n",
       "      <th></th>\n",
       "      <th>DE Name</th>\n",
       "      <th>Cluster ID</th>\n",
       "      <th>ESS Match Found</th>\n",
       "      <th>SKU Unique ID</th>\n",
       "      <th>SKU Title (Original)</th>\n",
       "      <th>SKU Title</th>\n",
       "      <th>Brand</th>\n",
       "      <th>Category</th>\n",
       "      <th>Company</th>\n",
       "      <th>UOM Value</th>\n",
       "      <th>...</th>\n",
       "      <th>IsSurvivor</th>\n",
       "      <th>Survivor ID</th>\n",
       "      <th>Comments</th>\n",
       "      <th>Exact</th>\n",
       "      <th>Date</th>\n",
       "      <th>IsSurvivor2</th>\n",
       "      <th>Survivor ID 2</th>\n",
       "      <th>compa</th>\n",
       "      <th>brana</th>\n",
       "      <th>Unnamed: 22</th>\n",
       "    </tr>\n",
       "  </thead>\n",
       "  <tbody>\n",
       "    <tr>\n",
       "      <th>0</th>\n",
       "      <td>Anurag</td>\n",
       "      <td>29914</td>\n",
       "      <td>False</td>\n",
       "      <td>01e1bf6c-1218-4d02-a083-c56f63adc408</td>\n",
       "      <td>Aegte Organics Skin Corrector DD Cream (BB+CC)...</td>\n",
       "      <td>aegte organics skin corrector dd cream bb+cc b...</td>\n",
       "      <td>Aegte</td>\n",
       "      <td>Cream</td>\n",
       "      <td>Aegte Lifescience</td>\n",
       "      <td>NaN</td>\n",
       "      <td>...</td>\n",
       "      <td>False</td>\n",
       "      <td>4724e075-b126-4d5c-8d9f-9da8f3c8a594</td>\n",
       "      <td>NaN</td>\n",
       "      <td>155</td>\n",
       "      <td>2022-04-18</td>\n",
       "      <td>True</td>\n",
       "      <td>01e1bf6c-1218-4d02-a083-c56f63adc408</td>\n",
       "      <td>155</td>\n",
       "      <td>155</td>\n",
       "      <td>155.0</td>\n",
       "    </tr>\n",
       "    <tr>\n",
       "      <th>1</th>\n",
       "      <td>Anurag</td>\n",
       "      <td>29914</td>\n",
       "      <td>False</td>\n",
       "      <td>04b1954d-6ac3-4cbd-bddd-8aea84642a38</td>\n",
       "      <td>Aegte Organics Skin Corrector DD Cream (BB+CC)...</td>\n",
       "      <td>aegte organics skin corrector dd cream bb+cc b...</td>\n",
       "      <td>Aegte</td>\n",
       "      <td>Cream</td>\n",
       "      <td>Aegte Lifescience</td>\n",
       "      <td>NaN</td>\n",
       "      <td>...</td>\n",
       "      <td>False</td>\n",
       "      <td>4724e075-b126-4d5c-8d9f-9da8f3c8a594</td>\n",
       "      <td>NaN</td>\n",
       "      <td>155</td>\n",
       "      <td>2022-04-18</td>\n",
       "      <td>False</td>\n",
       "      <td>01e1bf6c-1218-4d02-a083-c56f63adc408</td>\n",
       "      <td>154</td>\n",
       "      <td>154</td>\n",
       "      <td>NaN</td>\n",
       "    </tr>\n",
       "    <tr>\n",
       "      <th>2</th>\n",
       "      <td>Anurag</td>\n",
       "      <td>29914</td>\n",
       "      <td>False</td>\n",
       "      <td>0596514d-8667-4619-adaa-1e98ed9d8c29</td>\n",
       "      <td>Aegte Organics Skin Corrector DD Cream (BB+CC)...</td>\n",
       "      <td>aegte organics skin corrector dd cream bb+cc b...</td>\n",
       "      <td>Aegte</td>\n",
       "      <td>Cream</td>\n",
       "      <td>Aegte Lifescience</td>\n",
       "      <td>NaN</td>\n",
       "      <td>...</td>\n",
       "      <td>False</td>\n",
       "      <td>4724e075-b126-4d5c-8d9f-9da8f3c8a594</td>\n",
       "      <td>NaN</td>\n",
       "      <td>155</td>\n",
       "      <td>2022-04-18</td>\n",
       "      <td>False</td>\n",
       "      <td>01e1bf6c-1218-4d02-a083-c56f63adc408</td>\n",
       "      <td>153</td>\n",
       "      <td>153</td>\n",
       "      <td>NaN</td>\n",
       "    </tr>\n",
       "    <tr>\n",
       "      <th>3</th>\n",
       "      <td>Anurag</td>\n",
       "      <td>29914</td>\n",
       "      <td>False</td>\n",
       "      <td>05b65745-db5e-470a-956e-229f31e83050</td>\n",
       "      <td>Aegte Organics Skin Corrector DD Cream (BB+CC)...</td>\n",
       "      <td>aegte organics skin corrector dd cream bb+cc b...</td>\n",
       "      <td>Aegte</td>\n",
       "      <td>Cream</td>\n",
       "      <td>Aegte Lifescience</td>\n",
       "      <td>NaN</td>\n",
       "      <td>...</td>\n",
       "      <td>False</td>\n",
       "      <td>4724e075-b126-4d5c-8d9f-9da8f3c8a594</td>\n",
       "      <td>NaN</td>\n",
       "      <td>155</td>\n",
       "      <td>2022-04-18</td>\n",
       "      <td>False</td>\n",
       "      <td>01e1bf6c-1218-4d02-a083-c56f63adc408</td>\n",
       "      <td>152</td>\n",
       "      <td>152</td>\n",
       "      <td>NaN</td>\n",
       "    </tr>\n",
       "    <tr>\n",
       "      <th>4</th>\n",
       "      <td>Anurag</td>\n",
       "      <td>29914</td>\n",
       "      <td>False</td>\n",
       "      <td>081de14b-03dc-4477-895e-763ccd7f237f</td>\n",
       "      <td>Aegte Organics Skin Corrector DD Cream (BB+CC)...</td>\n",
       "      <td>aegte organics skin corrector dd cream bb+cc b...</td>\n",
       "      <td>Aegte</td>\n",
       "      <td>Cream</td>\n",
       "      <td>Aegte Lifescience</td>\n",
       "      <td>NaN</td>\n",
       "      <td>...</td>\n",
       "      <td>False</td>\n",
       "      <td>4724e075-b126-4d5c-8d9f-9da8f3c8a594</td>\n",
       "      <td>NaN</td>\n",
       "      <td>155</td>\n",
       "      <td>2022-04-18</td>\n",
       "      <td>False</td>\n",
       "      <td>01e1bf6c-1218-4d02-a083-c56f63adc408</td>\n",
       "      <td>151</td>\n",
       "      <td>151</td>\n",
       "      <td>NaN</td>\n",
       "    </tr>\n",
       "  </tbody>\n",
       "</table>\n",
       "<p>5 rows × 23 columns</p>\n",
       "</div>"
      ],
      "text/plain": [
       "  DE Name  Cluster ID  ESS Match Found                         SKU Unique ID  \\\n",
       "0  Anurag       29914            False  01e1bf6c-1218-4d02-a083-c56f63adc408   \n",
       "1  Anurag       29914            False  04b1954d-6ac3-4cbd-bddd-8aea84642a38   \n",
       "2  Anurag       29914            False  0596514d-8667-4619-adaa-1e98ed9d8c29   \n",
       "3  Anurag       29914            False  05b65745-db5e-470a-956e-229f31e83050   \n",
       "4  Anurag       29914            False  081de14b-03dc-4477-895e-763ccd7f237f   \n",
       "\n",
       "                                SKU Title (Original)  \\\n",
       "0  Aegte Organics Skin Corrector DD Cream (BB+CC)...   \n",
       "1  Aegte Organics Skin Corrector DD Cream (BB+CC)...   \n",
       "2  Aegte Organics Skin Corrector DD Cream (BB+CC)...   \n",
       "3  Aegte Organics Skin Corrector DD Cream (BB+CC)...   \n",
       "4  Aegte Organics Skin Corrector DD Cream (BB+CC)...   \n",
       "\n",
       "                                           SKU Title  Brand Category  \\\n",
       "0  aegte organics skin corrector dd cream bb+cc b...  Aegte    Cream   \n",
       "1  aegte organics skin corrector dd cream bb+cc b...  Aegte    Cream   \n",
       "2  aegte organics skin corrector dd cream bb+cc b...  Aegte    Cream   \n",
       "3  aegte organics skin corrector dd cream bb+cc b...  Aegte    Cream   \n",
       "4  aegte organics skin corrector dd cream bb+cc b...  Aegte    Cream   \n",
       "\n",
       "             Company  UOM Value  ... IsSurvivor  \\\n",
       "0  Aegte Lifescience        NaN  ...      False   \n",
       "1  Aegte Lifescience        NaN  ...      False   \n",
       "2  Aegte Lifescience        NaN  ...      False   \n",
       "3  Aegte Lifescience        NaN  ...      False   \n",
       "4  Aegte Lifescience        NaN  ...      False   \n",
       "\n",
       "                            Survivor ID Comments  Exact       Date  \\\n",
       "0  4724e075-b126-4d5c-8d9f-9da8f3c8a594      NaN    155 2022-04-18   \n",
       "1  4724e075-b126-4d5c-8d9f-9da8f3c8a594      NaN    155 2022-04-18   \n",
       "2  4724e075-b126-4d5c-8d9f-9da8f3c8a594      NaN    155 2022-04-18   \n",
       "3  4724e075-b126-4d5c-8d9f-9da8f3c8a594      NaN    155 2022-04-18   \n",
       "4  4724e075-b126-4d5c-8d9f-9da8f3c8a594      NaN    155 2022-04-18   \n",
       "\n",
       "   IsSurvivor2                         Survivor ID 2 compa  brana Unnamed: 22  \n",
       "0         True  01e1bf6c-1218-4d02-a083-c56f63adc408   155    155       155.0  \n",
       "1        False  01e1bf6c-1218-4d02-a083-c56f63adc408   154    154         NaN  \n",
       "2        False  01e1bf6c-1218-4d02-a083-c56f63adc408   153    153         NaN  \n",
       "3        False  01e1bf6c-1218-4d02-a083-c56f63adc408   152    152         NaN  \n",
       "4        False  01e1bf6c-1218-4d02-a083-c56f63adc408   151    151         NaN  \n",
       "\n",
       "[5 rows x 23 columns]"
      ]
     },
     "execution_count": 329,
     "metadata": {},
     "output_type": "execute_result"
    }
   ],
   "source": [
    "df.head()"
   ]
  },
  {
   "cell_type": "code",
   "execution_count": 330,
   "id": "d0f3621e",
   "metadata": {
    "scrolled": true
   },
   "outputs": [
    {
     "data": {
      "text/plain": [
       "0        [{\"SKUs\": \"mxofere skin lightening cream with ...\n",
       "1        [{\"SKUs\": \"mxofere skin lightening cream with ...\n",
       "2        [{\"SKUs\": \"mxofere skin lightening cream with ...\n",
       "3        [{\"SKUs\": \"mxofere skin lightening cream with ...\n",
       "4        [{\"SKUs\": \"mxofere skin lightening cream with ...\n",
       "                               ...                        \n",
       "10062    [{\"SKUs\": \"wow skin science red onion black se...\n",
       "10063    [{\"SKUs\": \"wow skin science red onion black se...\n",
       "10064    [{\"SKUs\": \"wow skin science red onion black se...\n",
       "10065    [{\"SKUs\": \"wow skin science red onion black se...\n",
       "10066    [{\"SKUs\": \"wow skin science red onion black se...\n",
       "Name: ESS Based SKU Matches, Length: 10067, dtype: object"
      ]
     },
     "execution_count": 330,
     "metadata": {},
     "output_type": "execute_result"
    }
   ],
   "source": [
    "df['ESS Based SKU Matches']"
   ]
  },
  {
   "cell_type": "code",
   "execution_count": 331,
   "id": "79325083",
   "metadata": {},
   "outputs": [
    {
     "data": {
      "text/plain": [
       "pandas.core.series.Series"
      ]
     },
     "execution_count": 331,
     "metadata": {},
     "output_type": "execute_result"
    }
   ],
   "source": [
    "type(df['ESS Based SKU Matches'])"
   ]
  },
  {
   "cell_type": "code",
   "execution_count": 332,
   "id": "5b9cb9fa",
   "metadata": {},
   "outputs": [
    {
     "name": "stderr",
     "output_type": "stream",
     "text": [
      "C:\\Users\\anurag.das\\AppData\\Local\\Temp\\ipykernel_23124\\3449615995.py:1: FutureWarning: The default value of regex will change from True to False in a future version. In addition, single character regular expressions will *not* be treated as literal strings when regex=True.\n",
      "  df['ESS Based SKU Matches'] = df['ESS Based SKU Matches'].str.replace('[','')\n",
      "C:\\Users\\anurag.das\\AppData\\Local\\Temp\\ipykernel_23124\\3449615995.py:2: FutureWarning: The default value of regex will change from True to False in a future version. In addition, single character regular expressions will *not* be treated as literal strings when regex=True.\n",
      "  df['ESS Based SKU Matches'] = df['ESS Based SKU Matches'].str.replace(']','')\n"
     ]
    }
   ],
   "source": [
    "df['ESS Based SKU Matches'] = df['ESS Based SKU Matches'].str.replace('[','')\n",
    "df['ESS Based SKU Matches'] = df['ESS Based SKU Matches'].str.replace(']','')"
   ]
  },
  {
   "cell_type": "code",
   "execution_count": 333,
   "id": "532053f4",
   "metadata": {},
   "outputs": [],
   "source": [
    "dipz = df['ESS Based SKU Matches'][0]"
   ]
  },
  {
   "cell_type": "code",
   "execution_count": 334,
   "id": "84d97668",
   "metadata": {},
   "outputs": [
    {
     "data": {
      "text/plain": [
       "'{\"SKUs\": \"mxofere skin lightening cream with spf 25\", \"id\": \"aad168a5-cf3f-48cb-b9bc-fcc5bd3e2ede\", \"survivor_id\": \"aad168a5-cf3f-48cb-b9bc-fcc5bd3e2ede\"}, {\"SKUs\": \"revolution skin dark spot corrector 30 ml\", \"id\": \"7488960a-463d-4ad1-9750-f6ebed2e33fc\", \"survivor_id\": \"7488960a-463d-4ad1-9750-f6ebed2e33fc\"}, {\"SKUs\": \"surelite white skin lightening & brightening cream\", \"id\": \"376979ae-4557-4e54-87c5-93df2f77eecc\", \"survivor_id\": \"376979ae-4557-4e54-87c5-93df2f77eecc\"}'"
      ]
     },
     "execution_count": 334,
     "metadata": {},
     "output_type": "execute_result"
    }
   ],
   "source": [
    "dipz"
   ]
  },
  {
   "cell_type": "code",
   "execution_count": 305,
   "id": "6ae533e7",
   "metadata": {},
   "outputs": [],
   "source": [
    "import json\n",
    "\n",
    "\n",
    "thisisjson_dict = json.loads(thisisjson)"
   ]
  },
  {
   "cell_type": "code",
   "execution_count": 307,
   "id": "e99f28dd",
   "metadata": {},
   "outputs": [],
   "source": [
    "with open('data.json', 'w') as json_file:\n",
    "    json.dump(thisisjson_dict, json_file)"
   ]
  },
  {
   "cell_type": "code",
   "execution_count": 313,
   "id": "74ca1b56",
   "metadata": {},
   "outputs": [],
   "source": [
    "dzz = pd.read_json('data.json')"
   ]
  },
  {
   "cell_type": "code",
   "execution_count": 326,
   "id": "9de8ffb6",
   "metadata": {},
   "outputs": [
    {
     "data": {
      "text/plain": [
       "'{\"SKUs\": \"mxofere skin lightening cream with spf 25\", \"id\": \"aad168a5-cf3f-48cb-b9bc-fcc5bd3e2ede\", \"survivor_id\": \"aad168a5-cf3f-48cb-b9bc-fcc5bd3e2ede\"}, {\"SKUs\": \"revolution skin dark spot corrector 30 ml\", \"id\": \"7488960a-463d-4ad1-9750-f6ebed2e33fc\", \"survivor_id\": \"7488960a-463d-4ad1-9750-f6ebed2e33fc\"}, {\"SKUs\": \"surelite white skin lightening & brightening cream\", \"id\": \"376979ae-4557-4e54-87c5-93df2f77eecc\", \"survivor_id\": \"376979ae-4557-4e54-87c5-93df2f77eecc\"}'"
      ]
     },
     "execution_count": 326,
     "metadata": {},
     "output_type": "execute_result"
    }
   ],
   "source": [
    "(dzz['ESS Based SKU Matches'][0])"
   ]
  },
  {
   "cell_type": "code",
   "execution_count": null,
   "id": "f54debc5",
   "metadata": {},
   "outputs": [],
   "source": []
  },
  {
   "cell_type": "code",
   "execution_count": 335,
   "id": "f6d7cf03",
   "metadata": {},
   "outputs": [
    {
     "name": "stdout",
     "output_type": "stream",
     "text": [
      "{'{\"SKUs\"': '\"surelite white skin lightening & brightening cream\"', '\"id\"': '\"376979ae-4557-4e54-87c5-93df2f77eecc\"', '\"survivor_id\"': '\"376979ae-4557-4e54-87c5-93df2f77eecc\"}'}\n"
     ]
    }
   ],
   "source": [
    "des= dict((x.strip(),y.strip())\n",
    "    for x,y in (element.split(':')\n",
    "    for element in dipz.split(',')))\n",
    "print(des)"
   ]
  },
  {
   "cell_type": "code",
   "execution_count": null,
   "id": "1bcca2ea",
   "metadata": {},
   "outputs": [],
   "source": []
  }
 ],
 "metadata": {
  "kernelspec": {
   "display_name": "Python 3.10.4 64-bit",
   "language": "python",
   "name": "python3"
  },
  "language_info": {
   "codemirror_mode": {
    "name": "ipython",
    "version": 3
   },
   "file_extension": ".py",
   "mimetype": "text/x-python",
   "name": "python",
   "nbconvert_exporter": "python",
   "pygments_lexer": "ipython3",
   "version": "3.10.4"
  },
  "vscode": {
   "interpreter": {
    "hash": "5353ebaac13700a9f308280ced894994e99d9f85d4c450b8f650e51c1e94b9c8"
   }
  }
 },
 "nbformat": 4,
 "nbformat_minor": 5
}
